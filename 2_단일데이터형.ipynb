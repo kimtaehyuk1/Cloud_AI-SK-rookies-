{
  "nbformat": 4,
  "nbformat_minor": 0,
  "metadata": {
    "colab": {
      "provenance": [],
      "authorship_tag": "ABX9TyNSIH9bU+LcsCS79VHFlZBm",
      "include_colab_link": true
    },
    "kernelspec": {
      "name": "python3",
      "display_name": "Python 3"
    },
    "language_info": {
      "name": "python"
    }
  },
  "cells": [
    {
      "cell_type": "markdown",
      "metadata": {
        "id": "view-in-github",
        "colab_type": "text"
      },
      "source": [
        "<a href=\"https://colab.research.google.com/github/kimtaehyuk1/Cloud_AI_SK-rookies/blob/master/2_%EB%8B%A8%EC%9D%BC%EB%8D%B0%EC%9D%B4%ED%84%B0%ED%98%95.ipynb\" target=\"_parent\"><img src=\"https://colab.research.google.com/assets/colab-badge.svg\" alt=\"Open In Colab\"/></a>"
      ]
    },
    {
      "cell_type": "code",
      "execution_count": null,
      "metadata": {
        "id": "xRj5XYAC9Dys"
      },
      "outputs": [],
      "source": []
    },
    {
      "cell_type": "markdown",
      "source": [
        "## 슬라이싱"
      ],
      "metadata": {
        "id": "DWG9zpr1-dW7"
      }
    },
    {
      "cell_type": "markdown",
      "source": [
        "- 원본 데이터에서 특정 데이터 부분을 자른다(잘라서 추출한다)\n",
        "- 추출된 데이터는 원본과 동일한 shape(모양)을 가진다\n",
        "  - 차원유지\n",
        "  - 2차원 데이터를 슬라이싱 하면 2차원인 것이다.\n",
        "- 문법\n",
        "  - 변수[시작인덱스:끝인덱스:간격(step)]\n",
        "  - 시작/끝 인덱스, 간격은 모두다 생략 가능하다.\n",
        "    - 기본값이 존재한다.\n",
        "    - 시작 인덱스 생략 => 처음부터~\n",
        "    - 끝 인덱스 생략 => 끝까지\n",
        "    - step => 1\n",
        "- 오직 이웃한 데이터들만 추출가능 ]"
      ],
      "metadata": {
        "id": "bAVRacEh-lUE"
      }
    },
    {
      "cell_type": "code",
      "source": [
        "a = '0123456789'"
      ],
      "metadata": {
        "id": "mkJZsNMA_rfv"
      },
      "execution_count": null,
      "outputs": []
    },
    {
      "cell_type": "code",
      "source": [
        "# a문자열에서 처음부터 끝까지 자르시오. => 원본카피\n",
        "a[:]"
      ],
      "metadata": {
        "colab": {
          "base_uri": "https://localhost:8080/",
          "height": 35
        },
        "id": "N-vs2QFh__Xr",
        "outputId": "312a465c-5687-4234-b901-3de1883900c0"
      },
      "execution_count": null,
      "outputs": [
        {
          "output_type": "execute_result",
          "data": {
            "text/plain": [
              "'0123456789'"
            ],
            "application/vnd.google.colaboratory.intrinsic+json": {
              "type": "string"
            }
          },
          "metadata": {},
          "execution_count": 3
        }
      ]
    },
    {
      "cell_type": "code",
      "source": [
        "# a문자열에서 0,9를 제외한 나머지를 추출하시오.\n",
        "a[1 : -1 ]"
      ],
      "metadata": {
        "colab": {
          "base_uri": "https://localhost:8080/",
          "height": 35
        },
        "id": "Y6IMtGRiAKXN",
        "outputId": "4b01b1d4-3f4e-453b-ed13-76b65a822b45"
      },
      "execution_count": null,
      "outputs": [
        {
          "output_type": "execute_result",
          "data": {
            "text/plain": [
              "'12345678'"
            ],
            "application/vnd.google.colaboratory.intrinsic+json": {
              "type": "string"
            }
          },
          "metadata": {},
          "execution_count": 10
        }
      ]
    },
    {
      "cell_type": "code",
      "source": [
        "# step은 간격\n",
        "a[ : : 2]"
      ],
      "metadata": {
        "colab": {
          "base_uri": "https://localhost:8080/",
          "height": 35
        },
        "id": "XVSUd6AwAqC8",
        "outputId": "9155f64d-e16e-43ad-cffc-c73f66ab0e08"
      },
      "execution_count": null,
      "outputs": [
        {
          "output_type": "execute_result",
          "data": {
            "text/plain": [
              "'02468'"
            ],
            "application/vnd.google.colaboratory.intrinsic+json": {
              "type": "string"
            }
          },
          "metadata": {},
          "execution_count": 6
        }
      ]
    },
    {
      "cell_type": "markdown",
      "source": [
        "## 주요 문자열 처리 함수 ( 문자열 클래스에 소속된 함수들 )\n",
        "\n",
        "- 문자열.함수()"
      ],
      "metadata": {
        "id": "9OyMJnyRBBnb"
      }
    },
    {
      "cell_type": "code",
      "source": [
        "# 변수만 선언하고 싶을때\n",
        "text = None\n",
        "\n",
        "# 초기화\n",
        "text = \"https://n.news.naver.com/article/449/0000240253?cds=news_media_pc&type=editn\"\n",
        "\n",
        "# TEXT 데이터에서 cds, type 추출하시오.\n",
        "# 값의 길이가 변경되더라도 정확하게 추출하시오.\n",
        "# 어떤 문제들을 생상성 높고(빠르게) 할 수 있도록 라이브러리 제공 + 로직 => 구현\n",
        "# 특정 타입에 함수들을 지원해서 제공 => 주로 사용되는 것들을 체크하여 사용"
      ],
      "metadata": {
        "id": "qrDZwQOzBpE7"
      },
      "execution_count": null,
      "outputs": []
    },
    {
      "cell_type": "code",
      "source": [
        "# 해당 타입의 구성요소들을 출력하는 내장함수\n",
        "print ( dir( text ) )"
      ],
      "metadata": {
        "colab": {
          "base_uri": "https://localhost:8080/"
        },
        "id": "-uG0cVqEDGVu",
        "outputId": "d8efd00c-d410-4f3d-e0e5-8875272253b1"
      },
      "execution_count": null,
      "outputs": [
        {
          "output_type": "stream",
          "name": "stdout",
          "text": [
            "['__add__', '__class__', '__contains__', '__delattr__', '__dir__', '__doc__', '__eq__', '__format__', '__ge__', '__getattribute__', '__getitem__', '__getnewargs__', '__gt__', '__hash__', '__init__', '__init_subclass__', '__iter__', '__le__', '__len__', '__lt__', '__mod__', '__mul__', '__ne__', '__new__', '__reduce__', '__reduce_ex__', '__repr__', '__rmod__', '__rmul__', '__setattr__', '__sizeof__', '__str__', '__subclasshook__', 'capitalize', 'casefold', 'center', 'count', 'encode', 'endswith', 'expandtabs', 'find', 'format', 'format_map', 'index', 'isalnum', 'isalpha', 'isascii', 'isdecimal', 'isdigit', 'isidentifier', 'islower', 'isnumeric', 'isprintable', 'isspace', 'istitle', 'isupper', 'join', 'ljust', 'lower', 'lstrip', 'maketrans', 'partition', 'replace', 'rfind', 'rindex', 'rjust', 'rpartition', 'rsplit', 'rstrip', 'split', 'splitlines', 'startswith', 'strip', 'swapcase', 'title', 'translate', 'upper', 'zfill']\n"
          ]
        }
      ]
    },
    {
      "cell_type": "code",
      "source": [
        "tmp = text.split('?')\n",
        "tmp"
      ],
      "metadata": {
        "colab": {
          "base_uri": "https://localhost:8080/"
        },
        "id": "j0lDkhQLDjsy",
        "outputId": "b388215b-c52e-4112-eb78-7fb44f398906"
      },
      "execution_count": null,
      "outputs": [
        {
          "output_type": "execute_result",
          "data": {
            "text/plain": [
              "['https://n.news.naver.com/article/449/0000240253',\n",
              " 'cds=news_media_pc&type=editn']"
            ]
          },
          "metadata": {},
          "execution_count": 19
        }
      ]
    },
    {
      "cell_type": "code",
      "source": [
        "# tmp 배열에서 두번쨰 맴버를 추출하고 싶다 => 추출 => 인덱싱\n",
        "# 변수 [ 인덱스 ]\n",
        "tmp[1]"
      ],
      "metadata": {
        "colab": {
          "base_uri": "https://localhost:8080/",
          "height": 35
        },
        "id": "WwiCm_zsEpxN",
        "outputId": "0cb5c233-d801-4585-dc5f-3c81ae913703"
      },
      "execution_count": null,
      "outputs": [
        {
          "output_type": "execute_result",
          "data": {
            "text/plain": [
              "'cds=news_media_pc&type=editn'"
            ],
            "application/vnd.google.colaboratory.intrinsic+json": {
              "type": "string"
            }
          },
          "metadata": {},
          "execution_count": 20
        }
      ]
    },
    {
      "cell_type": "code",
      "source": [
        "#이러면 여위에 저기서 &기준으로 쪼개짐\n",
        "tmp2 = tmp[1].split(\"&\")\n",
        "tmp2"
      ],
      "metadata": {
        "colab": {
          "base_uri": "https://localhost:8080/"
        },
        "id": "KpTRZqTNFBo6",
        "outputId": "df99f8df-be19-44ed-d472-cc5ad4b60219"
      },
      "execution_count": null,
      "outputs": [
        {
          "output_type": "execute_result",
          "data": {
            "text/plain": [
              "['cds=news_media_pc', 'type=editn']"
            ]
          },
          "metadata": {},
          "execution_count": 24
        }
      ]
    },
    {
      "cell_type": "code",
      "source": [
        "#이거 중요\n",
        "tmp2[0].split('=')[0]"
      ],
      "metadata": {
        "colab": {
          "base_uri": "https://localhost:8080/",
          "height": 35
        },
        "id": "So6O__uRFWSx",
        "outputId": "cc16fdd8-1fe9-405b-b8e4-39f8aecdbef1"
      },
      "execution_count": null,
      "outputs": [
        {
          "output_type": "execute_result",
          "data": {
            "text/plain": [
              "'cds'"
            ],
            "application/vnd.google.colaboratory.intrinsic+json": {
              "type": "string"
            }
          },
          "metadata": {},
          "execution_count": 29
        }
      ]
    },
    {
      "cell_type": "markdown",
      "source": [
        "## Join() : 구분자인데 조립한다."
      ],
      "metadata": {
        "id": "u5JoGF9nF8O0"
      }
    },
    {
      "cell_type": "code",
      "source": [
        "tmp = list('abc')\n",
        "tmp"
      ],
      "metadata": {
        "colab": {
          "base_uri": "https://localhost:8080/"
        },
        "id": "Sw4G-9BHGA8x",
        "outputId": "596f00d9-e637-43dd-a396-a0cf3e1c3232"
      },
      "execution_count": null,
      "outputs": [
        {
          "output_type": "execute_result",
          "data": {
            "text/plain": [
              "['a', 'b', 'c']"
            ]
          },
          "metadata": {},
          "execution_count": 30
        }
      ]
    },
    {
      "cell_type": "code",
      "source": [
        "#각각의 문자열을 더해서 하나의 문자열로 만드시오\n",
        "# 구분자.join( 리스트 )\n",
        "\"\".join(tmp), \"-\".join(tmp)"
      ],
      "metadata": {
        "colab": {
          "base_uri": "https://localhost:8080/"
        },
        "id": "8hWcpFSdGIKh",
        "outputId": "060688b1-20d0-4394-e742-3b61b83d2fd3"
      },
      "execution_count": null,
      "outputs": [
        {
          "output_type": "execute_result",
          "data": {
            "text/plain": [
              "('abc', 'a-b-c')"
            ]
          },
          "metadata": {},
          "execution_count": 35
        }
      ]
    },
    {
      "cell_type": "markdown",
      "source": [
        "## 공백제거 ( 왼쪽, 오른쪽, 양쪽 )\n",
        "\n",
        "- 문자열 내부의 공백 제거 -> 정규식으로 처리한다.\n",
        "- 정규식은 차후 데이터 전처리 상에 기초 기술로 사용\n",
        "  - 단 데이터가 문자열인 경우 주로 사용"
      ],
      "metadata": {
        "id": "UbyfyHciJU8Z"
      }
    },
    {
      "cell_type": "code",
      "source": [],
      "metadata": {
        "id": "hfN8o8xPKTgP"
      },
      "execution_count": null,
      "outputs": []
    },
    {
      "cell_type": "code",
      "source": [
        "data = '  ab  cd  '\n",
        "print( '[' + data + ']' )\n",
        "print( '[' + data.lstrip() + ']' )\n",
        "print( '[' + data.rstrip() + ']' )\n",
        "print( '[' + data.strip() + ']' )"
      ],
      "metadata": {
        "colab": {
          "base_uri": "https://localhost:8080/"
        },
        "id": "lCV7mbGMJ9Li",
        "outputId": "6b678b82-9344-4ef7-fb14-13e5332dffa4"
      },
      "execution_count": null,
      "outputs": [
        {
          "output_type": "stream",
          "name": "stdout",
          "text": [
            "[  ab  cd  ]\n",
            "[ab  cd  ]\n",
            "[  ab  cd]\n",
            "[ab  cd]\n"
          ]
        }
      ]
    },
    {
      "cell_type": "markdown",
      "source": [
        "## 포멧팅"
      ],
      "metadata": {
        "id": "lT_eD1QfLBKL"
      }
    },
    {
      "cell_type": "markdown",
      "source": [
        "- 문자열 과 문자열을 결합할때, 특정 데이터를 삽입할때\n",
        "- 특정 형식의 문자열을 생성할때 사용\n",
        "- 방식\n",
        "  - '문자열' **%** ( , , ....)\n",
        "  - '문자열'.format( , , ....)\n",
        "  - **f'문자열{삽입데이터} ... '**\n",
        "    - fstring\n",
        "    - 파이썬 3.6.x 이상부터 사용가능\n",
        "    - **구조를 유지**하면서 포멧팅 사용 가능"
      ],
      "metadata": {
        "id": "hYMTW15ALIhH"
      }
    },
    {
      "cell_type": "code",
      "source": [],
      "metadata": {
        "id": "qNezpjZHNCP1"
      },
      "execution_count": null,
      "outputs": []
    },
    {
      "cell_type": "code",
      "source": [
        "# 포멧팅 1번 유형\n",
        "a = 1\n",
        "b = 2\n",
        "# 출력하시오> '1 + 2 = 3' 이라는 문자열을 출력하시오\n",
        "# %d : 정수, %f : 부동소수 , %s :  문자열, 범용적으로 적용\n",
        "'%d + %d = %d' % ( a, b, a+b )"
      ],
      "metadata": {
        "colab": {
          "base_uri": "https://localhost:8080/",
          "height": 35
        },
        "id": "LRCBAWUJA0Td",
        "outputId": "405c0088-1469-4301-e2e0-6d685400b7b2"
      },
      "execution_count": null,
      "outputs": [
        {
          "output_type": "execute_result",
          "data": {
            "text/plain": [
              "'1 + 2 = 3'"
            ],
            "application/vnd.google.colaboratory.intrinsic+json": {
              "type": "string"
            }
          },
          "metadata": {},
          "execution_count": 38
        }
      ]
    },
    {
      "cell_type": "code",
      "source": [
        "# 범용적으로 처리 (안전, 타입을 몰라도 처리 가능)\n",
        "'%s + %s = %s' % ( a, b, a+b )"
      ],
      "metadata": {
        "colab": {
          "base_uri": "https://localhost:8080/",
          "height": 35
        },
        "id": "9FsoCtm9MnL5",
        "outputId": "7a329f2a-4836-41c6-9d5a-40c5fe417155"
      },
      "execution_count": null,
      "outputs": [
        {
          "output_type": "execute_result",
          "data": {
            "text/plain": [
              "'1 + 2 = 3'"
            ],
            "application/vnd.google.colaboratory.intrinsic+json": {
              "type": "string"
            }
          },
          "metadata": {},
          "execution_count": 39
        }
      ]
    },
    {
      "cell_type": "code",
      "source": [
        "# 포멧팅 2번 유형\n",
        "'{} + {} = {}'.format( a, b, a+b )"
      ],
      "metadata": {
        "colab": {
          "base_uri": "https://localhost:8080/",
          "height": 35
        },
        "id": "1X_foMUENTWv",
        "outputId": "94a4adaa-e3ca-42c3-9495-7cf7180aed41"
      },
      "execution_count": null,
      "outputs": [
        {
          "output_type": "execute_result",
          "data": {
            "text/plain": [
              "'1 + 2 = 3'"
            ],
            "application/vnd.google.colaboratory.intrinsic+json": {
              "type": "string"
            }
          },
          "metadata": {},
          "execution_count": 51
        }
      ]
    },
    {
      "cell_type": "code",
      "source": [
        "# 파라미터의 => 함수 인자 => 순서를 기입\n",
        "'{0} + {1} = {2}'.format( a, b, a+b )"
      ],
      "metadata": {
        "colab": {
          "base_uri": "https://localhost:8080/",
          "height": 35
        },
        "id": "tkuHJWplNuHY",
        "outputId": "979edf33-e669-40f1-ee53-6e7f7c85b87d"
      },
      "execution_count": null,
      "outputs": [
        {
          "output_type": "execute_result",
          "data": {
            "text/plain": [
              "'1 + 2 = 3'"
            ],
            "application/vnd.google.colaboratory.intrinsic+json": {
              "type": "string"
            }
          },
          "metadata": {},
          "execution_count": 52
        }
      ]
    },
    {
      "cell_type": "code",
      "source": [
        "# 들어가는 순번을 변경할때 용이 \n",
        "'{1} + {0} = {2}'.format( a, b, a+b )"
      ],
      "metadata": {
        "colab": {
          "base_uri": "https://localhost:8080/",
          "height": 35
        },
        "id": "nzfeBSQPN-nP",
        "outputId": "ebf23477-716c-4ffc-f505-c6d9b3f05fc8"
      },
      "execution_count": null,
      "outputs": [
        {
          "output_type": "execute_result",
          "data": {
            "text/plain": [
              "'2 + 1 = 3'"
            ],
            "application/vnd.google.colaboratory.intrinsic+json": {
              "type": "string"
            }
          },
          "metadata": {},
          "execution_count": 40
        }
      ]
    },
    {
      "cell_type": "code",
      "source": [
        "# 파라미터명을 이용하여서 처리 => 포멧팅에서 나온 결과물의 의미를 좀더 부여할때 사용\n",
        "'{x} + {y} = {result}'.format( x=a, y=b, result=a+b )"
      ],
      "metadata": {
        "colab": {
          "base_uri": "https://localhost:8080/",
          "height": 35
        },
        "id": "sR8suL7BODnX",
        "outputId": "af945520-03a6-40c8-8e69-cb89b503baf0"
      },
      "execution_count": null,
      "outputs": [
        {
          "output_type": "execute_result",
          "data": {
            "text/plain": [
              "'1 + 2 = 3'"
            ],
            "application/vnd.google.colaboratory.intrinsic+json": {
              "type": "string"
            }
          },
          "metadata": {},
          "execution_count": 55
        }
      ]
    },
    {
      "cell_type": "code",
      "source": [
        "# 포멧팅 유형 3 -> 가장 많이 사용됨\n",
        "# f'1 + 2 = 3'\n",
        "f'{a} + {b} = {a+b}'  # js => '${a} + ${b} = ${a+b}'"
      ],
      "metadata": {
        "colab": {
          "base_uri": "https://localhost:8080/",
          "height": 35
        },
        "id": "6dpK-delO-F5",
        "outputId": "7b8812cd-1326-4381-aedf-852187cb893d"
      },
      "execution_count": null,
      "outputs": [
        {
          "output_type": "execute_result",
          "data": {
            "text/plain": [
              "'1 + 2 = 3'"
            ],
            "application/vnd.google.colaboratory.intrinsic+json": {
              "type": "string"
            }
          },
          "metadata": {},
          "execution_count": 41
        }
      ]
    },
    {
      "cell_type": "code",
      "source": [
        "# 각 값의 크기지정 및 정렬, 빈값 치환\n",
        "f'{a:10} + {b:<5} = {a+b:*^11}'"
      ],
      "metadata": {
        "colab": {
          "base_uri": "https://localhost:8080/",
          "height": 35
        },
        "id": "c4V--JADP2Zo",
        "outputId": "6e6539e9-fa52-4832-ecef-e47faa215197"
      },
      "execution_count": null,
      "outputs": [
        {
          "output_type": "execute_result",
          "data": {
            "text/plain": [
              "'         1 + 2     = *****3*****'"
            ],
            "application/vnd.google.colaboratory.intrinsic+json": {
              "type": "string"
            }
          },
          "metadata": {},
          "execution_count": 50
        }
      ]
    },
    {
      "cell_type": "markdown",
      "source": [
        "## 탐색(찾기)"
      ],
      "metadata": {
        "id": "-hrZjJjERwS1"
      }
    },
    {
      "cell_type": "markdown",
      "source": [],
      "metadata": {
        "id": "sTL66pLVRzga"
      }
    },
    {
      "cell_type": "code",
      "source": [
        "# find() 해당 문자열의 위치를 리턴\n",
        "# 없으면 -1\n",
        "# 'abcdefg'.index('') => 찾이 못하면 오류남 (주의)\n",
        "# 특정 문자로 시작하는가?\n",
        "'abcdefg'.find('b'), 'abcdefg'.find('z'),  'abcdefg'.startswith('ab')"
      ],
      "metadata": {
        "colab": {
          "base_uri": "https://localhost:8080/"
        },
        "id": "S1TjgSXwQ5wG",
        "outputId": "8651cb12-d862-4eba-c77e-22649af9fdc9"
      },
      "execution_count": null,
      "outputs": [
        {
          "output_type": "execute_result",
          "data": {
            "text/plain": [
              "(1, -1, True)"
            ]
          },
          "metadata": {},
          "execution_count": 43
        }
      ]
    },
    {
      "cell_type": "markdown",
      "source": [
        "## 블린형"
      ],
      "metadata": {
        "id": "m1Dg40YsSzUq"
      }
    },
    {
      "cell_type": "markdown",
      "source": [
        "- True:참, False:거짓 \n",
        "- 블린형은 조건식의 결론이다\n",
        "- 거짓상황만 기억한다\n",
        "  - 조건식에 다음과 같은 표현은 다 거짓이다\n",
        "    - 0, 0.0, '', [], {}, (), None, False"
      ],
      "metadata": {
        "id": "qxkDGON9SGHe"
      }
    }
  ]
}