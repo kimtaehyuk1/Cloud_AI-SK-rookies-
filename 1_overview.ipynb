{
  "nbformat": 4,
  "nbformat_minor": 0,
  "metadata": {
    "colab": {
      "provenance": [],
      "toc_visible": true,
      "authorship_tag": "ABX9TyOSWxGY/WAa+GfdYy4Glkwo",
      "include_colab_link": true
    },
    "kernelspec": {
      "name": "python3",
      "display_name": "Python 3"
    },
    "language_info": {
      "name": "python"
    }
  },
  "cells": [
    {
      "cell_type": "markdown",
      "metadata": {
        "id": "view-in-github",
        "colab_type": "text"
      },
      "source": [
        "<a href=\"https://colab.research.google.com/github/kimtaehyuk1/Cloud_AI_SK-rookies/blob/master/1_overview.ipynb\" target=\"_parent\"><img src=\"https://colab.research.google.com/assets/colab-badge.svg\" alt=\"Open In Colab\"/></a>"
      ]
    },
    {
      "cell_type": "code",
      "execution_count": null,
      "metadata": {
        "id": "kMsyXbfA0Nfo"
      },
      "outputs": [],
      "source": []
    },
    {
      "cell_type": "markdown",
      "source": [
        "# 파이썬 개요"
      ],
      "metadata": {
        "id": "mcRTEy2d7f1T"
      }
    },
    {
      "cell_type": "markdown",
      "source": [
        "## 개발환경 구축"
      ],
      "metadata": {
        "id": "20ATG38J715H"
      }
    },
    {
      "cell_type": "markdown",
      "source": [
        "- 파이썬 설치\n",
        "  - 공식 홈페이지에서 다운로드 후 설치\n",
        "  - 풀패키지 옵션이 가미된 설치파일 활용(아나콘다, 미니콘다)\n",
        "  - 이미 개발환경이 모두 완성된 환경에서 개발하고 싶다(colab)\n",
        "    - SaaS, PaaS 둘다 적용되어 있음.(서비스니까 사스고, 개발"
      ],
      "metadata": {
        "id": "PVNgh1p68C3V"
      }
    },
    {
      "cell_type": "markdown",
      "source": [
        "# 타입"
      ],
      "metadata": {
        "id": "f-GRnG1F3s_n"
      }
    },
    {
      "cell_type": "markdown",
      "source": [
        "- 데이터 분석 분야/머신러닝\n",
        "  - 배열\n",
        "    - numpy(수학/과학용 라이브러리)의 자료구조\n",
        "\n",
        "  -시리즈(Series)\n",
        "    - pandas의 자료구조\n",
        "    - 1차원 데이터\n",
        "\n",
        "  - 데이터프레임\n",
        "    - pandas의 자료구조\n",
        "    - 2차원 데이터\n",
        "\n",
        "\n",
        "\n",
        "\n",
        "\n"
      ],
      "metadata": {
        "id": "gdyRWDRg6vC5"
      }
    },
    {
      "cell_type": "markdown",
      "source": [
        "## 타입 계층 구조 정리"
      ],
      "metadata": {
        "id": "E5_uQ0Oj7Y_6"
      }
    },
    {
      "cell_type": "markdown",
      "source": [
        "- None : 값이 없다.\n",
        "- 수치(숫자)\n",
        "  - 정수형\n",
        "    - 정수(int)\n",
        "    - 불리언(bool)\n",
        "  - 실수형(float)\n",
        "- 시퀀스\n",
        "  - 불변\n",
        "    - 문자열(str)\n",
        "    - 튜플(tuple)\n",
        "    - 바이트(bytes) : 바이너리 데이터\n",
        "  - 가변\n",
        "    - 리스트(list)\n",
        "- 집합\n",
        "  - 집합(Set)\n",
        "- 매핑\n",
        "  - 딕셔너리\n"
      ],
      "metadata": {
        "id": "Q-MmYnNQ7dKG"
      }
    },
    {
      "cell_type": "markdown",
      "source": [
        "# 흐름제어"
      ],
      "metadata": {
        "id": "XQZY50Re6PT0"
      }
    },
    {
      "cell_type": "markdown",
      "source": [
        "# 절차적 프로그래밍"
      ],
      "metadata": {
        "id": "pJ0TRt4U6Prq"
      }
    },
    {
      "cell_type": "markdown",
      "source": [
        "# 함수"
      ],
      "metadata": {
        "id": "EK06UAWq6QKp"
      }
    },
    {
      "cell_type": "markdown",
      "source": [
        "# 함수 지향적 프로그래밍"
      ],
      "metadata": {
        "id": "Vee81CUi6ZJo"
      }
    },
    {
      "cell_type": "markdown",
      "source": [
        "# 모듈화 및 모듈 가져오기"
      ],
      "metadata": {
        "id": "7yG-2tK76Zdc"
      }
    },
    {
      "cell_type": "markdown",
      "source": [
        "# 예외처리"
      ],
      "metadata": {
        "id": "hf3h3W2Q6Z4E"
      }
    },
    {
      "cell_type": "markdown",
      "source": [
        "# 클래스 및 객체"
      ],
      "metadata": {
        "id": "_sJNI38F6mbg"
      }
    },
    {
      "cell_type": "markdown",
      "source": [
        "# 객체 지향 프로그래밍"
      ],
      "metadata": {
        "id": "xZkE5leR6m38"
      }
    }
  ]
}