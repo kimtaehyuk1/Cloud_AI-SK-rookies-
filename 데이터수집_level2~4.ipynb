{
  "nbformat": 4,
  "nbformat_minor": 0,
  "metadata": {
    "colab": {
      "provenance": [],
      "toc_visible": true,
      "authorship_tag": "ABX9TyPfAKf02Ozfzm2aRiRTd7Eg",
      "include_colab_link": true
    },
    "kernelspec": {
      "name": "python3",
      "display_name": "Python 3"
    },
    "language_info": {
      "name": "python"
    },
    "accelerator": "GPU",
    "gpuClass": "standard"
  },
  "cells": [
    {
      "cell_type": "markdown",
      "metadata": {
        "id": "view-in-github",
        "colab_type": "text"
      },
      "source": [
        "<a href=\"https://colab.research.google.com/github/kimtaehyuk1/Cloud_AI_SK-rookies/blob/master/%EB%8D%B0%EC%9D%B4%ED%84%B0%EC%88%98%EC%A7%91_level2~4.ipynb\" target=\"_parent\"><img src=\"https://colab.research.google.com/assets/colab-badge.svg\" alt=\"Open In Colab\"/></a>"
      ]
    },
    {
      "cell_type": "markdown",
      "source": [
        "# 목표"
      ],
      "metadata": {
        "id": "bovfu5YXQsRD"
      }
    },
    {
      "cell_type": "markdown",
      "source": [
        "- 데이터 분석 플로우 2단계 과정 마스터\n",
        "  - 사내에서 간혹 발생할 수 있는 데이터 수집 과정을 진행\n",
        "  - 교육 과정상 자유 프로젝트의 데이터가 없을 경우에도 level 2~4 까지 사용가능\n",
        "  - 파이썬 사용 능력 업그레이드\n",
        "  - 웹에 대한 이해\n",
        "  "
      ],
      "metadata": {
        "id": "08gdQrOMQvYD"
      }
    },
    {
      "cell_type": "markdown",
      "source": [
        "# 데이터 수집 level 2"
      ],
      "metadata": {
        "id": "ZxsWEamaiCZT"
      }
    },
    {
      "cell_type": "markdown",
      "source": [
        "## 네이버 open API를 활용하여 뉴스 수집\n",
        "\n",
        "- 데이터 : 뉴스\n",
        "  - 자연어 처리 용도\n",
        "  - 관련주제\n",
        "    - 카테고리 분류, 키워드 추출(해쉬태그), 텍스트 요약, 헤드라인 생성, 글의 논조 분석, 성향 분석....\n",
        "- 출처\n",
        "  - dev.naver.com\n",
        "  - 가입 -> 인증 -> 애플리케이션 생성 -> 등록\n",
        "  - API 신청 : 검색만신청\n",
        "  - Client ID : 09R0nErlhLWC7k_vvnzn\n",
        "  - Client Secret : RSD6YSNMJB"
      ],
      "metadata": {
        "id": "mAau5Dy-iFZg"
      }
    },
    {
      "cell_type": "markdown",
      "source": [
        "### 데이터 요청 테스트"
      ],
      "metadata": {
        "id": "fSUJ9uu3mlFP"
      }
    },
    {
      "cell_type": "code",
      "source": [
        "# step 1. 필요한 모듈 가져오기\n",
        "# 운영체계 관련된 모듈\n",
        "import os\n",
        "# 시스템 관련 모듈\n",
        "import sys\n",
        "# url을 이용한 라이브러리중 요청 모듈\n",
        "# 데이터는 http 혹은 https라는 프로토콜 통해서 데이터를 가져오게 정의되어 있어서\n",
        "# 파이썬에서 웹기반으로 http or https 프로토콜을 통해 통신을 수행한다면 밑에꺼 import\n",
        "import urllib.request"
      ],
      "metadata": {
        "id": "NQSOUKwplqDZ"
      },
      "execution_count": null,
      "outputs": []
    },
    {
      "cell_type": "code",
      "source": [
        "# 네이버에서 검색 수행시 기본으로 넣어야 하는 키값(해시)\n",
        "CLIENT_ID    =    \"09R0nErlhLWC7k_vvnzn\"\n",
        "CLIENT_SECRET =    \"RSD6YSNMJB\""
      ],
      "metadata": {
        "id": "8gkD2qlDmQRF"
      },
      "execution_count": null,
      "outputs": []
    },
    {
      "cell_type": "markdown",
      "source": [
        "- GET 방식으로 서버측에 뉴스를 검색 요청할때 데이터를 전송한다(?뒤에 key=값으로 대놓고 보여지면 GET방식)\n",
        "  - https://URL?query=키워드"
      ],
      "metadata": {
        "id": "GPKpuSQoo3EX"
      }
    },
    {
      "cell_type": "code",
      "source": [
        "# urllib.parse.quote() : URL 인코딩 처리 함수\n",
        "# 특수문자, 한글(유니코드계열) 등 처리가됨\n",
        "# encText = urllib.parse.quote(\"AB12ab!@연말연시\")\n",
        "encText = urllib.parse.quote(\"연말연시\")\n",
        "encText\n",
        "# 한글을 전송하면 경우에 따라서 깨져서 갈 수 있다(서버측에서 이해를 못할 수 있다.)\n",
        "# 한글 => %AC%AA 이런식으로 바꾸는게 URL인코딩 처리라 한다."
      ],
      "metadata": {
        "colab": {
          "base_uri": "https://localhost:8080/",
          "height": 35
        },
        "id": "gHr6M9cjmQU1",
        "outputId": "934ba177-3985-4a44-e440-d2397e9cd87d"
      },
      "execution_count": null,
      "outputs": [
        {
          "output_type": "execute_result",
          "data": {
            "text/plain": [
              "'%EC%97%B0%EB%A7%90%EC%97%B0%EC%8B%9C'"
            ],
            "application/vnd.google.colaboratory.intrinsic+json": {
              "type": "string"
            }
          },
          "metadata": {},
          "execution_count": 5
        }
      ]
    },
    {
      "cell_type": "code",
      "source": [
        "# 서버측에 데이터를 요청하기 위한 프로토콜 구성\n",
        "# https 기반 (참고 OSI 7 layer) 주소법을 기반으로 구성된다.\n",
        "\n",
        "url = \"https://openapi.naver.com/v1/search/news.json?query=\" + encText # JSON 결과\n",
        "# url = \"https://openapi.naver.com/v1/search/news.xml?query=\" + encText # XML 결과\n",
        "url"
      ],
      "metadata": {
        "colab": {
          "base_uri": "https://localhost:8080/",
          "height": 35
        },
        "id": "gQiGwt0gssyl",
        "outputId": "da3c181a-b384-4b10-92e8-b3031d32107a"
      },
      "execution_count": null,
      "outputs": [
        {
          "output_type": "execute_result",
          "data": {
            "text/plain": [
              "'https://openapi.naver.com/v1/search/news.json?query=%EC%97%B0%EB%A7%90%EC%97%B0%EC%8B%9C'"
            ],
            "application/vnd.google.colaboratory.intrinsic+json": {
              "type": "string"
            }
          },
          "metadata": {},
          "execution_count": 7
        }
      ]
    },
    {
      "cell_type": "code",
      "source": [
        "# API를 요청하는 유저의 정보를 삽입하여 요청\n",
        "# 이런 정보는 어디에 넣는가? => 프로토콜 헤더에 삽입한다(일반적)\n",
        "\n",
        "# 요청 객체 생성(url) 밑에 Request는 class이다\n",
        "request = urllib.request.Request(url)\n",
        "\n",
        "# 프로토콜 헤더에 정보를 세팅한다\n",
        "request.add_header(\"X-Naver-Client-Id\",CLIENT_ID)\n",
        "request.add_header(\"X-Naver-Client-Secret\",CLIENT_SECRET)\n",
        "\n",
        "# urlopen() 이 실제적으로 서버에 요청하는 함수\n",
        "# 브라우저에 주소창에 주소넣고 엔터와 같은 동작\n",
        "response = urllib.request.urlopen(request)\n",
        "\n",
        "# 서버의 응답값은 response"
      ],
      "metadata": {
        "id": "VJ-IyQnxmQYp"
      },
      "execution_count": null,
      "outputs": []
    },
    {
      "cell_type": "code",
      "source": [
        "# 응답데이터 => 해석, 필요한 결과를 추출 => 파싱한다.\n",
        "# 응답 코드 획득 , 100~500번 까지 존재, 200은 성공, 404(페이지없다), 500(서버측 오류)\n",
        "# 403(권한없음), 405(메소드없음).....\n",
        "rescode = response.getcode()\n",
        "\n",
        "# 통신이 정상적이라면\n",
        "if(rescode==200):\n",
        "    # 서버가 보낸 내용을 읽어라\n",
        "    response_body = response.read()\n",
        "    # utf-8(완성형 코드) 형태로\n",
        "    print(response_body.decode('utf-8'))\n",
        "else:\n",
        "    print(\"Error Code:\" + rescode)"
      ],
      "metadata": {
        "colab": {
          "base_uri": "https://localhost:8080/"
        },
        "id": "jpo05PZlmQcm",
        "outputId": "58715242-a507-404a-8f4e-8fcd3656310e"
      },
      "execution_count": null,
      "outputs": [
        {
          "output_type": "stream",
          "name": "stdout",
          "text": [
            "\n"
          ]
        }
      ]
    },
    {
      "cell_type": "markdown",
      "source": [
        "- 요청 후 응답처리 까지 한번에 진행해야 정상 작동한다.\n",
        "- 자동화 처리를 위해서, 단독 프로그램형태로 구성해야 한다(함수지향저코드등 적용 필요)\n",
        "- 입력, 출력에 대한 명확한 정의\n",
        "  - 입력 : 키워드\n",
        "  - 출력 : json 모듈을 활용해서 필요한 부분만 추출 => items 이하만 사용. => 구조이해 해야됨."
      ],
      "metadata": {
        "id": "nioVqF_px5Jb"
      }
    },
    {
      "cell_type": "code",
      "source": [
        "# 리눅스 명령어로 직접 요청 시도\n",
        "# !curl \"주소\"\n",
        "!curl \"https://openapi.naver.com/v1/search/news.json?query=%EC%97%B0%EB%A7%90%EC%97%B0%EC%8B%9C\" \\\n",
        "  -H \"X-Naver-Client-Id: 09R0nErlhLWC7k_vvnzn\" \\\n",
        "  -H \"X-Naver-Client-Secret: RSD6YSNMJB\" -v\n",
        "\n",
        "  # res는 받을 때 이름\n",
        "  # 데이터 추출형태 res[\"item\"] => [ {},{},{}......]  # 딕셔너리에서 항목을 가져오려면 \"변수명[\"키(항목)\"] \" 형태로 가져온다."
      ],
      "metadata": {
        "colab": {
          "base_uri": "https://localhost:8080/"
        },
        "id": "jfHRzCOFyiTI",
        "outputId": "212272d4-de64-4c0d-a6dc-8cb3595953f8"
      },
      "execution_count": null,
      "outputs": [
        {
          "output_type": "stream",
          "name": "stdout",
          "text": [
            "*   Trying 110.93.147.11...\n",
            "* TCP_NODELAY set\n",
            "* Connected to openapi.naver.com (110.93.147.11) port 443 (#0)\n",
            "* ALPN, offering h2\n",
            "* ALPN, offering http/1.1\n",
            "* successfully set certificate verify locations:\n",
            "*   CAfile: /etc/ssl/certs/ca-certificates.crt\n",
            "  CApath: /etc/ssl/certs\n",
            "* TLSv1.3 (OUT), TLS handshake, Client hello (1):\n",
            "* TLSv1.3 (IN), TLS handshake, Server hello (2):\n",
            "* TLSv1.2 (IN), TLS handshake, Certificate (11):\n",
            "* TLSv1.2 (IN), TLS handshake, Server key exchange (12):\n",
            "* TLSv1.2 (IN), TLS handshake, Server finished (14):\n",
            "* TLSv1.2 (OUT), TLS handshake, Client key exchange (16):\n",
            "* TLSv1.2 (OUT), TLS change cipher, Client hello (1):\n",
            "* TLSv1.2 (OUT), TLS handshake, Finished (20):\n",
            "* TLSv1.2 (IN), TLS handshake, Finished (20):\n",
            "* SSL connection using TLSv1.2 / ECDHE-RSA-AES128-GCM-SHA256\n",
            "* ALPN, server accepted to use h2\n",
            "* Server certificate:\n",
            "*  subject: C=KR; ST=Gyeonggi-do; L=Seongnam-si; O=NAVER Corp.; CN=*.openapi.naver.com\n",
            "*  start date: Dec  6 00:00:00 2022 GMT\n",
            "*  expire date: Dec 30 23:59:59 2023 GMT\n",
            "*  subjectAltName: host \"openapi.naver.com\" matched cert's \"openapi.naver.com\"\n",
            "*  issuer: C=US; O=DigiCert Inc; OU=www.digicert.com; CN=GeoTrust RSA CA 2018\n",
            "*  SSL certificate verify ok.\n",
            "* Using HTTP2, server supports multi-use\n",
            "* Connection state changed (HTTP/2 confirmed)\n",
            "* Copying HTTP/2 data in stream buffer to connection buffer after upgrade: len=0\n",
            "* Using Stream ID: 1 (easy handle 0x5565c63d6000)\n",
            "> GET /v1/search/news.json?query=%EC%97%B0%EB%A7%90%EC%97%B0%EC%8B%9C HTTP/2\n",
            "> Host: openapi.naver.com\n",
            "> User-Agent: curl/7.58.0\n",
            "> Accept: */*\n",
            "> X-Naver-Client-Id: 09R0nErlhLWC7k_vvnzn\n",
            "> X-Naver-Client-Secret: RSD6YSNMJB\n",
            "> \n",
            "* Connection state changed (MAX_CONCURRENT_STREAMS updated)!\n",
            "< HTTP/2 200 \n",
            "< server: nginx\n",
            "< date: Mon, 26 Dec 2022 05:00:30 GMT\n",
            "< content-type: application/json; charset=UTF-8\n",
            "< content-length: 6499\n",
            "< vary: Accept-Encoding\n",
            "< apigw-uuid: 15eb7dc8-6d66-45b3-a514-f96124041dc6\n",
            "< x-rate-limit: 10\n",
            "< x-rate-limit-remaining: 9\n",
            "< x-rate-limit-reset: 1672030831000\n",
            "< vary: Accept-Encoding\n",
            "< vary: Accept-Encoding\n",
            "< x-powered-by: Naver\n",
            "< vary: Accept-Encoding\n",
            "< \n",
            "{\n",
            "\t\"lastBuildDate\":\"Mon, 26 Dec 2022 14:00:30 +0900\",\n",
            "\t\"total\":264085,\n",
            "\t\"start\":1,\n",
            "\t\"display\":10,\n",
            "\t\"items\":[\n",
            "\t\t{\n",
            "\t\t\t\"title\":\"온라인투어, 창립 23주년 기념 ‘고객 감사 슈퍼특가’ 프로모션\",\n",
            "\t\t\t\"originallink\":\"https:\\/\\/www.seoul.co.kr\\/news\\/newsView.php?id=20221226500106&wlog_tag3=naver\",\n",
            "\t\t\t\"link\":\"https:\\/\\/n.news.naver.com\\/mnews\\/article\\/081\\/0003327747?sid=103\",\n",
            "\t\t\t\"description\":\"회사 관계자는 “이번 프로모션은 23년 동안 온라인투어를 찾아준 고객들에 대한 감사의 마음을 담아 풍성하게 준비했다”며 “이벤트와 혜택 등을 통해 여행의 즐거움과 혜택을 동시에 누릴 뿐 아니라 <b>연말연시<\\/b>... \",\n",
            "\t\t\t\"pubDate\":\"Mon, 26 Dec 2022 13:59:00 +0900\"\n",
            "\t\t},\n",
            "\t\t{\n",
            "\t\t\t\"title\":\"영양군청 건설안전과, 희망2023 나눔캠페인 성금 기부\",\n",
            "\t\t\t\"originallink\":\"http:\\/\\/www.kbsm.net\\/news\\/view.php?idx=375780\",\n",
            "\t\t\t\"link\":\"http:\\/\\/www.kbsm.net\\/news\\/view.php?idx=375780\",\n",
            "\t\t\t\"description\":\"영양군청은 지난달 21일부터 25일까지 추진한 2022년 재난대응 안전한국훈련 우수기관으로 선정돼 받은 포상금 150만원 을 <b>연말연시<\\/b> 어려움을 겪고 있는 이웃에게 전달하기 위해 경북공동모금회에 전액 기부했다.우제학... \",\n",
            "\t\t\t\"pubDate\":\"Mon, 26 Dec 2022 13:58:00 +0900\"\n",
            "\t\t},\n",
            "\t\t{\n",
            "\t\t\t\"title\":\"한국동서발전 당진발전본부, 지역 사회공헌 ‘앞장’\",\n",
            "\t\t\t\"originallink\":\"http:\\/\\/www.skyedaily.com\\/news\\/news_view.html?ID=177540\",\n",
            "\t\t\t\"link\":\"http:\\/\\/www.skyedaily.com\\/news\\/news_view.html?ID=177540\",\n",
            "\t\t\t\"description\":\"스카이데일리 박현선기자 = ▲ 한국동서발전(주) 당진발전본부가 22일 충청남도 당진시청을 방문해 <b>연말연시<\\/b> 맞춤형 사회공헌 활동 기금 6200만 원을 전달했다. (왼쪽부터) 현천순 지역아동센터협의회장·이갑희... \",\n",
            "\t\t\t\"pubDate\":\"Mon, 26 Dec 2022 13:58:00 +0900\"\n",
            "\t\t},\n",
            "\t\t{\n",
            "\t\t\t\"title\":\"한국효문화진흥원, 사회공헌사업 &apos;아나바효&apos; 수익금 전달\",\n",
            "\t\t\t\"originallink\":\"http:\\/\\/www.ccnnews.co.kr\\/news\\/articleView.html?idxno=280450\",\n",
            "\t\t\t\"link\":\"http:\\/\\/www.ccnnews.co.kr\\/news\\/articleView.html?idxno=280450\",\n",
            "\t\t\t\"description\":\"한국효문화진흥원 문용훈 원장은 &quot;지역 주민들과 직원들의 기부 참여에 감사드리며, 코로나19 상황으로 위축된 사회와 한파로 힘든 겨울을 보내고 있는 이웃에게 작은 도움이 되기를 바라며, 행복한 <b>연말연시<\\/b>가 되었으면... \",\n",
            "\t\t\t\"pubDate\":\"Mon, 26 Dec 2022 13:58:00 +0900\"\n",
            "\t\t},\n",
            "\t\t{\n",
            "\t\t\t\"title\":\"고령교육지원청, 2022년 하반기 ‘문화의 날’ 실시\",\n",
            "\t\t\t\"originallink\":\"https:\\/\\/www.cnbnews.com\\/news\\/article.html?no=580176\",\n",
            "\t\t\t\"link\":\"https:\\/\\/www.cnbnews.com\\/news\\/article.html?no=580176\",\n",
            "\t\t\t\"description\":\"기세원 교육장은 “<b>연말연시<\\/b>를 맞아 한해동안 고령교육 발전을 위해 열심히 달려온 직원들에게 작은 휴식이 됐기를 바란다”며 “앞으로도 직원들과 소통하며 다양한 직장교육, 문화체험 등을 통한 직원 사기진작 및... \",\n",
            "\t\t\t\"pubDate\":\"Mon, 26 Dec 2022 13:56:00 +0900\"\n",
            "\t\t},\n",
            "\t\t{\n",
            "\t\t\t\"title\":\"진주시복지재단, 기관·단체 이웃돕기 성금 기부 이어져\",\n",
            "\t\t\t\"originallink\":\"http:\\/\\/www.newsfreezone.co.kr\\/news\\/articleView.html?idxno=433396\",\n",
            "\t\t\t\"link\":\"http:\\/\\/www.newsfreezone.co.kr\\/news\\/articleView.html?idxno=433396\",\n",
            "\t\t\t\"description\":\"조규일 진주시장은 &quot;<b>연말연시<\\/b> 어려운 경기 속에서도 시민을 비롯한 지역사회 기관·단체 등에서 나눔의 손길이 연일 이어지고 있다&quot; 며 &quot;기부해 주신 각 기관·단체 대표님들께 감사를 드리며, 지역사회 나눔문화가 더욱... \",\n",
            "\t\t\t\"pubDate\":\"Mon, 26 Dec 2022 13:56:00 +0900\"\n",
            "\t\t},\n",
            "\t\t{\n",
            "\t\t\t\"title\":\"“뜻깊은 일 하고 싶다”…文 전 대통령, 취약계층에 500만원 기부\",\n",
            "\t\t\t\"originallink\":\"http:\\/\\/www.segye.com\\/content\\/html\\/2022\\/12\\/26\\/20221226508001.html?OutUrl=naver\",\n",
            "\t\t\t\"link\":\"https:\\/\\/n.news.naver.com\\/mnews\\/article\\/022\\/0003768011?sid=102\",\n",
            "\t\t\t\"description\":\"문재인 전 대통령이 <b>연말연시<\\/b>를 맞아 저소득층을 위해 써달라며 성금 500만원을 기부했다. 26일 경남사회복지공동모금회(경남모금회)에 따르면 지난 주 문재인 전 대통령 양산 평산마을 비서실 쪽에서 문 전 대통령이 지역... \",\n",
            "\t\t\t\"pubDate\":\"Mon, 26 Dec 2022 13:56:00 +0900\"\n",
            "\t\t},\n",
            "\t\t{\n",
            "\t\t\t\"title\":\"조병옥 음성군수, 취약지 제설작업 철저 지시\",\n",
            "\t\t\t\"originallink\":\"https:\\/\\/www.ccdailynews.com\\/news\\/articleView.html?idxno=2176318\",\n",
            "\t\t\t\"link\":\"https:\\/\\/www.ccdailynews.com\\/news\\/articleView.html?idxno=2176318\",\n",
            "\t\t\t\"description\":\"이어 그는 &quot;<b>연말연시<\\/b> 마을대동회, 단체 총회를 통해 제기되는 각종 주민불편사항, 소규모 민원 등 큰 예산이 수반되지 않는 건의사항은 관련 부서 간 소통, 협업으로 해결될 수 있도록 해 달라&quot;고 말했다. 또 조 군수는 &quot;주요... \",\n",
            "\t\t\t\"pubDate\":\"Mon, 26 Dec 2022 13:56:00 +0900\"\n",
            "\t\t},\n",
            "\t\t{\n",
            "\t\t\t\"title\":\"[증권소식] 금융위, 자본시장조사 전담부서 확대 개편\\/&apos;이탈리아 헬스케어펀드...\",\n",
            "\t\t\t\"originallink\":\"https:\\/\\/www.asiatime.co.kr\\/article\\/20221226500223\",\n",
            "\t\t\t\"link\":\"https:\\/\\/www.asiatime.co.kr\\/article\\/20221226500223\",\n",
            "\t\t\t\"description\":\"삼정KPMG 관계자는 &quot;<b>연말연시<\\/b> 소외계층을 돌아보고 온정을 나누고자 연탄나눔 봉사활동을 진행하게 됐다&quot;며 &quot;앞으로도 나눔을 통해 지역사회와 동행하는 삼정KPMG가 될 수 있도록 노력하겠다&quot;고 밝혔다. ◆ SK증권은... \",\n",
            "\t\t\t\"pubDate\":\"Mon, 26 Dec 2022 13:54:00 +0900\"\n",
            "\t\t},\n",
            "\t\t{\n",
            "\t\t\t\"title\":\"경찰, 제주서 &apos;부축빼기&apos;로 2천여만원 훔친 50대 구속영장\",\n",
            "\t\t\t\"originallink\":\"http:\\/\\/www.headlinejeju.co.kr\\/news\\/articleView.html?idxno=503837\",\n",
            "\t\t\t\"link\":\"http:\\/\\/www.headlinejeju.co.kr\\/news\\/articleView.html?idxno=503837\",\n",
            "\t\t\t\"description\":\"경찰 관계자는 &quot;<b>연말 연시<\\/b>로 인해 각종 모임과 회식으로 술을 마시게 되면 혼자 걸어가지 말고 택시 또는 대중교통을 이용해 안전하게 귀가해달라&quot;며 &quot;도민의 안전과 재산 보호를 위해 강․절도 범죄에 대하여 발생... \",\n",
            "\t\t\t\"pubDate\":\"Mon, 26 Dec 2022 13:54:00 +0900\"\n",
            "\t\t}\n",
            "\t]\n",
            "* Connection #0 to host openapi.naver.com left intact\n",
            "}"
          ]
        }
      ]
    },
    {
      "cell_type": "markdown",
      "source": [
        "### 함수화 처리"
      ],
      "metadata": {
        "id": "rZ1JPeTA4TU9"
      }
    },
    {
      "cell_type": "markdown",
      "source": [
        "- 입력\n",
        "  - 키워드\n",
        "- 연산\n",
        "  - 네이버 API를 이용하여 뉴스 검색\n",
        "- 출력\n",
        "  - 뉴스 목록, 자료구조는 리스트내에 맴버로 딕셔너리형태\n",
        "\n",
        "- 함수명\n",
        "  - get_search_news"
      ],
      "metadata": {
        "id": "uS-MqPsF4ciq"
      }
    },
    {
      "cell_type": "code",
      "source": [
        "import os\n",
        "import sys\n",
        "import urllib.request\n",
        "# 서버에서 응답온 데이터는 json 포멧 => 받아서 => 파이썬타입으로 변환처리하는게 json => 리스트/딕셔너리 구조로 표현이된다. \n",
        "import json\n",
        "\n",
        "CLIENT_ID            =   \"09R0nErlhLWC7k_vvnzn\"\n",
        "CLIENT_SECRET        =   \"RSD6YSNMJB\"\n",
        "NAVER_NEWS_QUERY_URL =   'openapi.naver.com/v1/search/news.json'\n",
        "\n",
        "\n",
        "def get_search_news(keyword:str, dp_cnt = 20, sort='date') -> list:  # 기본값주면 타입알아서 정의됨\n",
        "  '''\n",
        "\n",
        "  검색어를 넣어서 네이버 뉴스를 수집해서 가져온다.\n",
        "  검색할떄 20개 가져오고, 최신순으로 가져온다 => 단 변경가능하다(외부조정가능)\n",
        "  \n",
        "  '''\n",
        "  # 키워드 인자값을 인코딩 변환에 삽입\n",
        "  encText = urllib.parse.quote(keyword)\n",
        "  # 파라미터 구성 : 키=값&키=값&키=값   <- http에서 GET방식으로 데이터 전송시 포멧\n",
        "  PARAM  =   f'display={dp_cnt}&sort={sort}&query={encText}'   # 구조가 보인다.\n",
        "  url = f\"https://{NAVER_NEWS_QUERY_URL}?{PARAM}\" + encText # https 프로토콜 구조임!!!!!!!!\n",
        "\n",
        "  request = urllib.request.Request(url)  \n",
        "  request.add_header(\"X-Naver-Client-Id\",CLIENT_ID)\n",
        "  request.add_header(\"X-Naver-Client-Secret\",CLIENT_SECRET)\n",
        "  response = urllib.request.urlopen(request)\n",
        "  rescode = response.getcode()\n",
        "\n",
        "  if(rescode==200):\n",
        "      tmp = json.load(response)   # 리스트/딕셔너리 구조로 표현이된다.\n",
        "      #print(tmp['items'])  # items는 리스트로 되있어서\n",
        "      return tmp.get('items')  # 이렇게 추출해주면 된다.\n",
        "  else:\n",
        "    # 단 통신 오류등의 문제라면 로그 처리\n",
        "      print(\"Error Code:\" + rescode)\n",
        " \n",
        " \n",
        "if __name__ == '__main__':\n",
        "  tmp = get_search_news( '연말연시', dp_cnt=2)\n",
        "  print(tmp)\n",
        "  # 최종 결과 tmp는 전체 다 받아온거 중에 리스트로 items를 띄우는 상태\n",
        "\n"
      ],
      "metadata": {
        "colab": {
          "base_uri": "https://localhost:8080/"
        },
        "id": "GHWxeWHF4zYE",
        "outputId": "e48de06e-a466-4577-e5b4-5d6e879765e6"
      },
      "execution_count": null,
      "outputs": [
        {
          "output_type": "stream",
          "name": "stdout",
          "text": [
            "[{'title': '진해,\\xa0희망2023\\xa0나눔 캠페인 현장 모금행사 개최', 'originallink': 'http://www.shinailbo.co.kr/news/articleView.html?idxno=1641575', 'link': 'http://www.shinailbo.co.kr/news/articleView.html?idxno=1641575', 'description': '경남 창원특례시 진해구는 지난\\xa023일 <b>연말연시</b>를 맞아 홈플러스 진해점 및 경화시장 일대에서 지역사회 나눔 문화 확산을 위한 희망2023\\xa0나눔 캠페인 현장 모금행사를 개최했다고\\xa026일 밝혔다. 코로나19로 인해\\xa03년 만에... ', 'pubDate': 'Mon, 26 Dec 2022 16:34:00 +0900'}, {'title': '강화소방서, <b>연말연시</b> 대비 모건알루미늄 현장 안전점검', 'originallink': 'http://fpn119.co.kr/189448', 'link': 'http://fpn119.co.kr/189448', 'description': '= 강화소방서(서장 이홍주)는 26일 <b>연말연시</b>를 대비해 강화군 강화산업단지에 위치한 모건알루미늄을 대상으로 관서장 현장안전점검을 실시했다고 밝혔다. 이번 현장안전점검은 최근 인천 인쇄공장, 경북 마스크공장, 충남... ', 'pubDate': 'Mon, 26 Dec 2022 16:34:00 +0900'}]\n"
          ]
        }
      ]
    },
    {
      "cell_type": "code",
      "source": [
        "# 데이터 중에서 제목만 추출하시오.\n",
        "[ n.get('title') for n in tmp ]"
      ],
      "metadata": {
        "colab": {
          "base_uri": "https://localhost:8080/"
        },
        "id": "GnOzjlAEDD0t",
        "outputId": "2823e35f-5569-4196-d22b-1df8212cb155"
      },
      "execution_count": null,
      "outputs": [
        {
          "output_type": "execute_result",
          "data": {
            "text/plain": [
              "['진해,\\xa0희망2023\\xa0나눔 캠페인 현장 모금행사 개최', '강화소방서, <b>연말연시</b> 대비 모건알루미늄 현장 안전점검']"
            ]
          },
          "metadata": {},
          "execution_count": 35
        }
      ]
    },
    {
      "cell_type": "code",
      "source": [
        "# 데이터들 중에서 제목, 설명까지 추출하시오.\n",
        "# 필요한 데이터만 추출\n",
        "# print(tmp) # --> 이거 까지는items 리스트 보여주는거 \n",
        "\n",
        "[ { '제목' : n.get('title').replace('<b>','').replace('</b>',''),\n",
        "    '설명' : n['description'], # n.get('description') 해도 무방하다.\n",
        "    '공개일' : n.get('pubDate'),\n",
        "} for n in tmp ]"
      ],
      "metadata": {
        "colab": {
          "base_uri": "https://localhost:8080/"
        },
        "id": "yGj33W8-DVEH",
        "outputId": "8c5a69f2-2893-4328-fa66-9ac857d258fa"
      },
      "execution_count": null,
      "outputs": [
        {
          "output_type": "execute_result",
          "data": {
            "text/plain": [
              "[{'제목': '진해,\\xa0희망2023\\xa0나눔 캠페인 현장 모금행사 개최',\n",
              "  '설명': '경남 창원특례시 진해구는 지난\\xa023일 <b>연말연시</b>를 맞아 홈플러스 진해점 및 경화시장 일대에서 지역사회 나눔 문화 확산을 위한 희망2023\\xa0나눔 캠페인 현장 모금행사를 개최했다고\\xa026일 밝혔다. 코로나19로 인해\\xa03년 만에... ',\n",
              "  '공개일': 'Mon, 26 Dec 2022 16:34:00 +0900'},\n",
              " {'제목': '강화소방서, 연말연시 대비 모건알루미늄 현장 안전점검',\n",
              "  '설명': '= 강화소방서(서장 이홍주)는 26일 <b>연말연시</b>를 대비해 강화군 강화산업단지에 위치한 모건알루미늄을 대상으로 관서장 현장안전점검을 실시했다고 밝혔다. 이번 현장안전점검은 최근 인천 인쇄공장, 경북 마스크공장, 충남... ',\n",
              "  '공개일': 'Mon, 26 Dec 2022 16:34:00 +0900'}]"
            ]
          },
          "metadata": {},
          "execution_count": 43
        }
      ]
    },
    {
      "cell_type": "code",
      "source": [
        "# <b> 제거 => 정규식 없이 처리\n",
        "# 함수화 하기 => 입력 ['<b>', '</b>' ], 원본문자열 => 출력 => 클린한 문자열\n",
        "'양평군, <b>2023</b>년'.replace('<b>','').replace('</b>','')\n",
        "\n",
        "def clean_str( rm_strs, ori_str ):\n",
        "  # 제거 문자열이 늘어나도 자동대응되게 구성\n",
        "  for rm_str in rm_strs:\n",
        "    #print('rm_strs=>', rm_str, type(rm_strs))\n",
        "   # 문자열은 수정이 않되므로 -> 조작 -> 다시 대입해야 원본이 변경된것처럼 보인다.\n",
        "    ori_str = ori_str.replace(rm_str, '')\n",
        "  return ori_str # for 문 밖\n",
        "\n",
        "\n",
        "clean_str( ['<b>', '</b>','&apos;'], '양평군, <b>2023</b>년' ) \n",
        "\n",
        "\n"
      ],
      "metadata": {
        "colab": {
          "base_uri": "https://localhost:8080/",
          "height": 90
        },
        "id": "JeLrXePBEoIP",
        "outputId": "36447a76-75a2-4531-d0c3-842b7c70af7d"
      },
      "execution_count": null,
      "outputs": [
        {
          "output_type": "stream",
          "name": "stdout",
          "text": [
            "rm_strs=> <b> <class 'list'>\n",
            "rm_strs=> </b> <class 'list'>\n",
            "rm_strs=> &apos; <class 'list'>\n"
          ]
        },
        {
          "output_type": "execute_result",
          "data": {
            "text/plain": [
              "'양평군, 2023년'"
            ],
            "application/vnd.google.colaboratory.intrinsic+json": {
              "type": "string"
            }
          },
          "metadata": {},
          "execution_count": 2
        }
      ]
    },
    {
      "cell_type": "code",
      "source": [
        "# 결과 데이터중에서 title, description, pubDate  항목만 추출하여 다시 [{},{},{},......]\n",
        "# <b> </b> 태그 삭제까지\n",
        "# 한세트 가지고 해보고 반복문 돌리기\n"
      ],
      "metadata": {
        "colab": {
          "base_uri": "https://localhost:8080/"
        },
        "id": "8S9lf92T_2XR",
        "outputId": "3f28bde8-57cd-46a1-cea5-7ad36aa8ce85"
      },
      "execution_count": null,
      "outputs": [
        {
          "output_type": "execute_result",
          "data": {
            "text/plain": [
              "['취객 가방에 현금 보이자…부축하는 척 2천만원 훔친 50대',\n",
              " '아웃백, &apos;기흥롯데아울렛점&apos; 신규 오픈',\n",
              " 'SPC삼립 시티델리, <b>연말연시</b> 활용도↑ 간편식 출시',\n",
              " '부산 4위·서울 1위… 올 <b>연말</b> 일본인이 찾는 해외여행지',\n",
              " '근육병아리의 방구석 오마카세 : 겨울 달큰 특집 - 말짱 도루묵 편']"
            ]
          },
          "metadata": {},
          "execution_count": 3
        }
      ]
    },
    {
      "cell_type": "markdown",
      "source": [
        "### 데이터 적제 처리\n",
        "\n",
        "- 적제\n",
        "  - 데이터를 읽어서 메모리에 로드\n",
        "  - 데이터를 수집해서 파일/디비에 저장(수집관점)\n",
        "    - [{},{},{},.....]\n",
        "      - DataFrame 형태로 변환\n",
        "        - DB테이블에 insert 처리"
      ],
      "metadata": {
        "id": "XGqMUDlcJLG0"
      }
    },
    {
      "cell_type": "code",
      "source": [
        "# 리스트 딕셔너리 형태의 데이터를 DataFrame(팬더스의 자료구조)으로 변환 (과도기적 형태)\n",
        "import pandas as pd"
      ],
      "metadata": {
        "id": "hokj7XegJp6D"
      },
      "execution_count": null,
      "outputs": []
    },
    {
      "cell_type": "code",
      "source": [
        "df = pd.DataFrame.from_dict(tmp)\n",
        "df.head(2)"
      ],
      "metadata": {
        "colab": {
          "base_uri": "https://localhost:8080/",
          "height": 260
        },
        "id": "P0JoELHWJ6K0",
        "outputId": "42bfa5f0-24e4-457a-aa51-19aa33ff1110"
      },
      "execution_count": null,
      "outputs": [
        {
          "output_type": "execute_result",
          "data": {
            "text/plain": [
              "                              title  \\\n",
              "0  취객 가방에 현금 보이자…부축하는 척 2천만원 훔친 50대   \n",
              "1   아웃백, &apos;기흥롯데아울렛점&apos; 신규 오픈   \n",
              "\n",
              "                                        originallink  \\\n",
              "0              https://www.news1.kr/articles/4905809   \n",
              "1  http://www.newscape.co.kr/news/articleView.htm...   \n",
              "\n",
              "                                                link  \\\n",
              "0  https://n.news.naver.com/mnews/article/421/000...   \n",
              "1  http://www.newscape.co.kr/news/articleView.htm...   \n",
              "\n",
              "                                         description  \\\n",
              "0  1점을 증거물로 압수하는 한편 A씨에 대한 구속영장을 신청하고 여죄를 조사 중이다....   \n",
              "1  기흥롯데아울렛점은 복합몰 출점 전략에 따라 올해 들어서만 13번째로 선보이는 프리미...   \n",
              "\n",
              "                           pubDate  \n",
              "0  Mon, 26 Dec 2022 15:06:00 +0900  \n",
              "1  Mon, 26 Dec 2022 15:04:00 +0900  "
            ],
            "text/html": [
              "\n",
              "  <div id=\"df-13f0e2db-3847-40b8-9409-df400a711928\">\n",
              "    <div class=\"colab-df-container\">\n",
              "      <div>\n",
              "<style scoped>\n",
              "    .dataframe tbody tr th:only-of-type {\n",
              "        vertical-align: middle;\n",
              "    }\n",
              "\n",
              "    .dataframe tbody tr th {\n",
              "        vertical-align: top;\n",
              "    }\n",
              "\n",
              "    .dataframe thead th {\n",
              "        text-align: right;\n",
              "    }\n",
              "</style>\n",
              "<table border=\"1\" class=\"dataframe\">\n",
              "  <thead>\n",
              "    <tr style=\"text-align: right;\">\n",
              "      <th></th>\n",
              "      <th>title</th>\n",
              "      <th>originallink</th>\n",
              "      <th>link</th>\n",
              "      <th>description</th>\n",
              "      <th>pubDate</th>\n",
              "    </tr>\n",
              "  </thead>\n",
              "  <tbody>\n",
              "    <tr>\n",
              "      <th>0</th>\n",
              "      <td>취객 가방에 현금 보이자…부축하는 척 2천만원 훔친 50대</td>\n",
              "      <td>https://www.news1.kr/articles/4905809</td>\n",
              "      <td>https://n.news.naver.com/mnews/article/421/000...</td>\n",
              "      <td>1점을 증거물로 압수하는 한편 A씨에 대한 구속영장을 신청하고 여죄를 조사 중이다....</td>\n",
              "      <td>Mon, 26 Dec 2022 15:06:00 +0900</td>\n",
              "    </tr>\n",
              "    <tr>\n",
              "      <th>1</th>\n",
              "      <td>아웃백, &amp;apos;기흥롯데아울렛점&amp;apos; 신규 오픈</td>\n",
              "      <td>http://www.newscape.co.kr/news/articleView.htm...</td>\n",
              "      <td>http://www.newscape.co.kr/news/articleView.htm...</td>\n",
              "      <td>기흥롯데아울렛점은 복합몰 출점 전략에 따라 올해 들어서만 13번째로 선보이는 프리미...</td>\n",
              "      <td>Mon, 26 Dec 2022 15:04:00 +0900</td>\n",
              "    </tr>\n",
              "  </tbody>\n",
              "</table>\n",
              "</div>\n",
              "      <button class=\"colab-df-convert\" onclick=\"convertToInteractive('df-13f0e2db-3847-40b8-9409-df400a711928')\"\n",
              "              title=\"Convert this dataframe to an interactive table.\"\n",
              "              style=\"display:none;\">\n",
              "        \n",
              "  <svg xmlns=\"http://www.w3.org/2000/svg\" height=\"24px\"viewBox=\"0 0 24 24\"\n",
              "       width=\"24px\">\n",
              "    <path d=\"M0 0h24v24H0V0z\" fill=\"none\"/>\n",
              "    <path d=\"M18.56 5.44l.94 2.06.94-2.06 2.06-.94-2.06-.94-.94-2.06-.94 2.06-2.06.94zm-11 1L8.5 8.5l.94-2.06 2.06-.94-2.06-.94L8.5 2.5l-.94 2.06-2.06.94zm10 10l.94 2.06.94-2.06 2.06-.94-2.06-.94-.94-2.06-.94 2.06-2.06.94z\"/><path d=\"M17.41 7.96l-1.37-1.37c-.4-.4-.92-.59-1.43-.59-.52 0-1.04.2-1.43.59L10.3 9.45l-7.72 7.72c-.78.78-.78 2.05 0 2.83L4 21.41c.39.39.9.59 1.41.59.51 0 1.02-.2 1.41-.59l7.78-7.78 2.81-2.81c.8-.78.8-2.07 0-2.86zM5.41 20L4 18.59l7.72-7.72 1.47 1.35L5.41 20z\"/>\n",
              "  </svg>\n",
              "      </button>\n",
              "      \n",
              "  <style>\n",
              "    .colab-df-container {\n",
              "      display:flex;\n",
              "      flex-wrap:wrap;\n",
              "      gap: 12px;\n",
              "    }\n",
              "\n",
              "    .colab-df-convert {\n",
              "      background-color: #E8F0FE;\n",
              "      border: none;\n",
              "      border-radius: 50%;\n",
              "      cursor: pointer;\n",
              "      display: none;\n",
              "      fill: #1967D2;\n",
              "      height: 32px;\n",
              "      padding: 0 0 0 0;\n",
              "      width: 32px;\n",
              "    }\n",
              "\n",
              "    .colab-df-convert:hover {\n",
              "      background-color: #E2EBFA;\n",
              "      box-shadow: 0px 1px 2px rgba(60, 64, 67, 0.3), 0px 1px 3px 1px rgba(60, 64, 67, 0.15);\n",
              "      fill: #174EA6;\n",
              "    }\n",
              "\n",
              "    [theme=dark] .colab-df-convert {\n",
              "      background-color: #3B4455;\n",
              "      fill: #D2E3FC;\n",
              "    }\n",
              "\n",
              "    [theme=dark] .colab-df-convert:hover {\n",
              "      background-color: #434B5C;\n",
              "      box-shadow: 0px 1px 3px 1px rgba(0, 0, 0, 0.15);\n",
              "      filter: drop-shadow(0px 1px 2px rgba(0, 0, 0, 0.3));\n",
              "      fill: #FFFFFF;\n",
              "    }\n",
              "  </style>\n",
              "\n",
              "      <script>\n",
              "        const buttonEl =\n",
              "          document.querySelector('#df-13f0e2db-3847-40b8-9409-df400a711928 button.colab-df-convert');\n",
              "        buttonEl.style.display =\n",
              "          google.colab.kernel.accessAllowed ? 'block' : 'none';\n",
              "\n",
              "        async function convertToInteractive(key) {\n",
              "          const element = document.querySelector('#df-13f0e2db-3847-40b8-9409-df400a711928');\n",
              "          const dataTable =\n",
              "            await google.colab.kernel.invokeFunction('convertToInteractive',\n",
              "                                                     [key], {});\n",
              "          if (!dataTable) return;\n",
              "\n",
              "          const docLinkHtml = 'Like what you see? Visit the ' +\n",
              "            '<a target=\"_blank\" href=https://colab.research.google.com/notebooks/data_table.ipynb>data table notebook</a>'\n",
              "            + ' to learn more about interactive tables.';\n",
              "          element.innerHTML = '';\n",
              "          dataTable['output_type'] = 'display_data';\n",
              "          await google.colab.output.renderOutput(dataTable, element);\n",
              "          const docLink = document.createElement('div');\n",
              "          docLink.innerHTML = docLinkHtml;\n",
              "          element.appendChild(docLink);\n",
              "        }\n",
              "      </script>\n",
              "    </div>\n",
              "  </div>\n",
              "  "
            ]
          },
          "metadata": {},
          "execution_count": 14
        }
      ]
    },
    {
      "cell_type": "markdown",
      "source": [
        "### RDBMS에 저장"
      ],
      "metadata": {
        "id": "c3mZBfl6Klt8"
      }
    },
    {
      "cell_type": "markdown",
      "source": [
        "- 관계형 데이터베이스에 저장\n",
        "  - 데이터를 정형 데이터로 저장하겠다.\n",
        "- 종류\n",
        "  - mariadb ( mySQL 계열)\n",
        "- 절차\n",
        "  - 디비설치, 드라이버(파이썬모듈)설치, 저장처리 순으로"
      ],
      "metadata": {
        "id": "7OYRk-dCKu3M"
      }
    },
    {
      "cell_type": "code",
      "source": [
        "# 파이썬 에서 mysql 계열에 접근하기 위한 모듈 설치\n",
        "# pip install 모듈명\n",
        "!pip install pymysql"
      ],
      "metadata": {
        "colab": {
          "base_uri": "https://localhost:8080/"
        },
        "id": "5xYM2nK5MJFp",
        "outputId": "dc8e896f-ea86-4106-de01-f9196f365510"
      },
      "execution_count": null,
      "outputs": [
        {
          "output_type": "stream",
          "name": "stdout",
          "text": [
            "Looking in indexes: https://pypi.org/simple, https://us-python.pkg.dev/colab-wheels/public/simple/\n",
            "Collecting pymysql\n",
            "  Downloading PyMySQL-1.0.2-py3-none-any.whl (43 kB)\n",
            "\u001b[K     |████████████████████████████████| 43 kB 1.6 MB/s \n",
            "\u001b[?25hInstalling collected packages: pymysql\n",
            "Successfully installed pymysql-1.0.2\n"
          ]
        }
      ]
    },
    {
      "cell_type": "code",
      "source": [
        "# 필요한 모듈 가져오기\n",
        "# 파이썬과 mysql 계열 데이터베이스 통신\n",
        "import pymysql\n",
        "# 고급 디비관련 모듈\n",
        "# sqlalchemy + pymysql 브릿지하여 데이터베이스 연결\n",
        "from sqlalchemy import create_engine\n",
        "# pandas에서 데이터베이스로 데이터를 전송하는 모듈\n",
        "import pandas.io.sql as pSql"
      ],
      "metadata": {
        "id": "IkBhnZskMYuZ"
      },
      "execution_count": null,
      "outputs": []
    },
    {
      "cell_type": "code",
      "source": [],
      "metadata": {
        "id": "8dM8SxE9MYw3"
      },
      "execution_count": null,
      "outputs": []
    },
    {
      "cell_type": "code",
      "source": [],
      "metadata": {
        "id": "D0ZsJLPkMYzB"
      },
      "execution_count": null,
      "outputs": []
    },
    {
      "cell_type": "code",
      "source": [],
      "metadata": {
        "id": "-h6zZpblMY1Z"
      },
      "execution_count": null,
      "outputs": []
    },
    {
      "cell_type": "markdown",
      "source": [
        "### 자동화"
      ],
      "metadata": {
        "id": "jjbZu_TBLEsz"
      }
    }
  ]
}